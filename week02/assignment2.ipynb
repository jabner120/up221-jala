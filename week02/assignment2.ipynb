{
 "cells": [
  {
   "cell_type": "markdown",
   "id": "812befb0-0edf-4657-a833-fbf540952dc7",
   "metadata": {},
   "source": [
    "# Week 2 Assignment \n",
    "## Data Exploration "
   ]
  },
  {
   "cell_type": "code",
   "execution_count": 75,
   "id": "13d3d479-e0f6-454e-a413-0adcc3b8963b",
   "metadata": {},
   "outputs": [],
   "source": [
    "# importing python libraries\n",
    "import pandas as pd\n",
    "import geopandas as gpd"
   ]
  },
  {
   "cell_type": "code",
   "execution_count": 76,
   "id": "d9628d46-ecf5-45c5-b3c9-07a46379c9ce",
   "metadata": {},
   "outputs": [
    {
     "data": {
      "text/html": [
       "<div>\n",
       "<style scoped>\n",
       "    .dataframe tbody tr th:only-of-type {\n",
       "        vertical-align: middle;\n",
       "    }\n",
       "\n",
       "    .dataframe tbody tr th {\n",
       "        vertical-align: top;\n",
       "    }\n",
       "\n",
       "    .dataframe thead th {\n",
       "        text-align: right;\n",
       "    }\n",
       "</style>\n",
       "<table border=\"1\" class=\"dataframe\">\n",
       "  <thead>\n",
       "    <tr style=\"text-align: right;\">\n",
       "      <th></th>\n",
       "      <th>tract</th>\n",
       "      <th>med_hh_income</th>\n",
       "      <th>med_hh_income_universe</th>\n",
       "      <th>ami_category</th>\n",
       "      <th>below_med_income</th>\n",
       "      <th>below_60pct_med_income</th>\n",
       "      <th>below_moderate_income</th>\n",
       "      <th>sup_dist</th>\n",
       "      <th>csa</th>\n",
       "      <th>spa</th>\n",
       "      <th>ESRI_OID</th>\n",
       "      <th>Shape__Area</th>\n",
       "      <th>Shape__Length</th>\n",
       "      <th>geometry</th>\n",
       "    </tr>\n",
       "  </thead>\n",
       "  <tbody>\n",
       "    <tr>\n",
       "      <th>0</th>\n",
       "      <td>06037199700</td>\n",
       "      <td>38892.0</td>\n",
       "      <td>1204</td>\n",
       "      <td>Very Low Income</td>\n",
       "      <td>Yes</td>\n",
       "      <td>Yes</td>\n",
       "      <td>Yes</td>\n",
       "      <td>District 1</td>\n",
       "      <td>Los Angeles - Wholesale District</td>\n",
       "      <td>SPA 4 - Metro</td>\n",
       "      <td>2347</td>\n",
       "      <td>1.041050e+07</td>\n",
       "      <td>13808.463241</td>\n",
       "      <td>POLYGON ((-118.22672 34.06242, -118.22453 34.0...</td>\n",
       "    </tr>\n",
       "    <tr>\n",
       "      <th>1</th>\n",
       "      <td>06037199801</td>\n",
       "      <td>41027.0</td>\n",
       "      <td>903</td>\n",
       "      <td>Very Low Income</td>\n",
       "      <td>Yes</td>\n",
       "      <td>Yes</td>\n",
       "      <td>Yes</td>\n",
       "      <td>District 1</td>\n",
       "      <td>Los Angeles - Lincoln Heights</td>\n",
       "      <td>SPA 4 - Metro</td>\n",
       "      <td>2348</td>\n",
       "      <td>3.724107e+06</td>\n",
       "      <td>9459.391827</td>\n",
       "      <td>POLYGON ((-118.21559 34.07186, -118.21169 34.0...</td>\n",
       "    </tr>\n",
       "    <tr>\n",
       "      <th>2</th>\n",
       "      <td>06037199802</td>\n",
       "      <td>42500.0</td>\n",
       "      <td>612</td>\n",
       "      <td>Very Low Income</td>\n",
       "      <td>Yes</td>\n",
       "      <td>Yes</td>\n",
       "      <td>Yes</td>\n",
       "      <td>District 1</td>\n",
       "      <td>Los Angeles - Lincoln Heights</td>\n",
       "      <td>SPA 4 - Metro</td>\n",
       "      <td>2349</td>\n",
       "      <td>3.296129e+06</td>\n",
       "      <td>8868.744225</td>\n",
       "      <td>POLYGON ((-118.21563 34.07365, -118.21309 34.0...</td>\n",
       "    </tr>\n",
       "    <tr>\n",
       "      <th>3</th>\n",
       "      <td>06037199900</td>\n",
       "      <td>37232.0</td>\n",
       "      <td>845</td>\n",
       "      <td>Very Low Income</td>\n",
       "      <td>Yes</td>\n",
       "      <td>Yes</td>\n",
       "      <td>Yes</td>\n",
       "      <td>District 1</td>\n",
       "      <td>Los Angeles - Lincoln Heights</td>\n",
       "      <td>SPA 4 - Metro</td>\n",
       "      <td>2350</td>\n",
       "      <td>4.782361e+06</td>\n",
       "      <td>10141.728022</td>\n",
       "      <td>POLYGON ((-118.21528 34.06349, -118.21547 34.0...</td>\n",
       "    </tr>\n",
       "    <tr>\n",
       "      <th>4</th>\n",
       "      <td>06037201110</td>\n",
       "      <td>65000.0</td>\n",
       "      <td>782</td>\n",
       "      <td>Low Income</td>\n",
       "      <td>Yes</td>\n",
       "      <td>No</td>\n",
       "      <td>Yes</td>\n",
       "      <td>District 1</td>\n",
       "      <td>Los Angeles - El Sereno</td>\n",
       "      <td>SPA 4 - Metro</td>\n",
       "      <td>2351</td>\n",
       "      <td>1.099246e+07</td>\n",
       "      <td>15893.383636</td>\n",
       "      <td>POLYGON ((-118.18182 34.09277, -118.18039 34.0...</td>\n",
       "    </tr>\n",
       "    <tr>\n",
       "      <th>...</th>\n",
       "      <td>...</td>\n",
       "      <td>...</td>\n",
       "      <td>...</td>\n",
       "      <td>...</td>\n",
       "      <td>...</td>\n",
       "      <td>...</td>\n",
       "      <td>...</td>\n",
       "      <td>...</td>\n",
       "      <td>...</td>\n",
       "      <td>...</td>\n",
       "      <td>...</td>\n",
       "      <td>...</td>\n",
       "      <td>...</td>\n",
       "      <td>...</td>\n",
       "    </tr>\n",
       "    <tr>\n",
       "      <th>2490</th>\n",
       "      <td>06037554516</td>\n",
       "      <td>126450.0</td>\n",
       "      <td>1215</td>\n",
       "      <td>Above Moderate Income</td>\n",
       "      <td>No</td>\n",
       "      <td>No</td>\n",
       "      <td>No</td>\n",
       "      <td>District 4</td>\n",
       "      <td>City of Cerritos</td>\n",
       "      <td>SPA 7 - East</td>\n",
       "      <td>4837</td>\n",
       "      <td>1.555650e+07</td>\n",
       "      <td>21274.227408</td>\n",
       "      <td>POLYGON ((-118.07225 33.85452, -118.07047 33.8...</td>\n",
       "    </tr>\n",
       "    <tr>\n",
       "      <th>2491</th>\n",
       "      <td>06037554517</td>\n",
       "      <td>107672.0</td>\n",
       "      <td>1352</td>\n",
       "      <td>Above Moderate Income</td>\n",
       "      <td>No</td>\n",
       "      <td>No</td>\n",
       "      <td>No</td>\n",
       "      <td>District 4</td>\n",
       "      <td>City of Cerritos</td>\n",
       "      <td>SPA 7 - East</td>\n",
       "      <td>4838</td>\n",
       "      <td>1.421767e+07</td>\n",
       "      <td>15905.089174</td>\n",
       "      <td>POLYGON ((-118.06374 33.86586, -118.05352 33.8...</td>\n",
       "    </tr>\n",
       "    <tr>\n",
       "      <th>2492</th>\n",
       "      <td>06037554518</td>\n",
       "      <td>104439.0</td>\n",
       "      <td>1558</td>\n",
       "      <td>Above Moderate Income</td>\n",
       "      <td>No</td>\n",
       "      <td>No</td>\n",
       "      <td>No</td>\n",
       "      <td>District 4</td>\n",
       "      <td>City of Cerritos</td>\n",
       "      <td>SPA 7 - East</td>\n",
       "      <td>4839</td>\n",
       "      <td>1.938903e+07</td>\n",
       "      <td>21218.412991</td>\n",
       "      <td>POLYGON ((-118.04646 33.87326, -118.03776 33.8...</td>\n",
       "    </tr>\n",
       "    <tr>\n",
       "      <th>2493</th>\n",
       "      <td>06037554519</td>\n",
       "      <td>131012.0</td>\n",
       "      <td>1216</td>\n",
       "      <td>Above Moderate Income</td>\n",
       "      <td>No</td>\n",
       "      <td>No</td>\n",
       "      <td>No</td>\n",
       "      <td>District 4</td>\n",
       "      <td>City of Cerritos</td>\n",
       "      <td>SPA 7 - East</td>\n",
       "      <td>4840</td>\n",
       "      <td>1.866694e+07</td>\n",
       "      <td>19500.866806</td>\n",
       "      <td>POLYGON ((-118.06362 33.85858, -118.05495 33.8...</td>\n",
       "    </tr>\n",
       "    <tr>\n",
       "      <th>2494</th>\n",
       "      <td>06037554521</td>\n",
       "      <td>90280.0</td>\n",
       "      <td>1863</td>\n",
       "      <td>Low Income</td>\n",
       "      <td>No</td>\n",
       "      <td>No</td>\n",
       "      <td>Yes</td>\n",
       "      <td>District 4</td>\n",
       "      <td>City of Cerritos</td>\n",
       "      <td>SPA 7 - East</td>\n",
       "      <td>4841</td>\n",
       "      <td>5.352220e+07</td>\n",
       "      <td>37625.839752</td>\n",
       "      <td>POLYGON ((-118.10858 33.88694, -118.10828 33.8...</td>\n",
       "    </tr>\n",
       "  </tbody>\n",
       "</table>\n",
       "<p>2495 rows × 14 columns</p>\n",
       "</div>"
      ],
      "text/plain": [
       "            tract  med_hh_income  med_hh_income_universe  \\\n",
       "0     06037199700        38892.0                    1204   \n",
       "1     06037199801        41027.0                     903   \n",
       "2     06037199802        42500.0                     612   \n",
       "3     06037199900        37232.0                     845   \n",
       "4     06037201110        65000.0                     782   \n",
       "...           ...            ...                     ...   \n",
       "2490  06037554516       126450.0                    1215   \n",
       "2491  06037554517       107672.0                    1352   \n",
       "2492  06037554518       104439.0                    1558   \n",
       "2493  06037554519       131012.0                    1216   \n",
       "2494  06037554521        90280.0                    1863   \n",
       "\n",
       "               ami_category below_med_income below_60pct_med_income  \\\n",
       "0           Very Low Income              Yes                    Yes   \n",
       "1           Very Low Income              Yes                    Yes   \n",
       "2           Very Low Income              Yes                    Yes   \n",
       "3           Very Low Income              Yes                    Yes   \n",
       "4                Low Income              Yes                     No   \n",
       "...                     ...              ...                    ...   \n",
       "2490  Above Moderate Income               No                     No   \n",
       "2491  Above Moderate Income               No                     No   \n",
       "2492  Above Moderate Income               No                     No   \n",
       "2493  Above Moderate Income               No                     No   \n",
       "2494             Low Income               No                     No   \n",
       "\n",
       "     below_moderate_income    sup_dist                               csa  \\\n",
       "0                      Yes  District 1  Los Angeles - Wholesale District   \n",
       "1                      Yes  District 1     Los Angeles - Lincoln Heights   \n",
       "2                      Yes  District 1     Los Angeles - Lincoln Heights   \n",
       "3                      Yes  District 1     Los Angeles - Lincoln Heights   \n",
       "4                      Yes  District 1           Los Angeles - El Sereno   \n",
       "...                    ...         ...                               ...   \n",
       "2490                    No  District 4                  City of Cerritos   \n",
       "2491                    No  District 4                  City of Cerritos   \n",
       "2492                    No  District 4                  City of Cerritos   \n",
       "2493                    No  District 4                  City of Cerritos   \n",
       "2494                   Yes  District 4                  City of Cerritos   \n",
       "\n",
       "                spa  ESRI_OID   Shape__Area  Shape__Length  \\\n",
       "0     SPA 4 - Metro      2347  1.041050e+07   13808.463241   \n",
       "1     SPA 4 - Metro      2348  3.724107e+06    9459.391827   \n",
       "2     SPA 4 - Metro      2349  3.296129e+06    8868.744225   \n",
       "3     SPA 4 - Metro      2350  4.782361e+06   10141.728022   \n",
       "4     SPA 4 - Metro      2351  1.099246e+07   15893.383636   \n",
       "...             ...       ...           ...            ...   \n",
       "2490   SPA 7 - East      4837  1.555650e+07   21274.227408   \n",
       "2491   SPA 7 - East      4838  1.421767e+07   15905.089174   \n",
       "2492   SPA 7 - East      4839  1.938903e+07   21218.412991   \n",
       "2493   SPA 7 - East      4840  1.866694e+07   19500.866806   \n",
       "2494   SPA 7 - East      4841  5.352220e+07   37625.839752   \n",
       "\n",
       "                                               geometry  \n",
       "0     POLYGON ((-118.22672 34.06242, -118.22453 34.0...  \n",
       "1     POLYGON ((-118.21559 34.07186, -118.21169 34.0...  \n",
       "2     POLYGON ((-118.21563 34.07365, -118.21309 34.0...  \n",
       "3     POLYGON ((-118.21528 34.06349, -118.21547 34.0...  \n",
       "4     POLYGON ((-118.18182 34.09277, -118.18039 34.0...  \n",
       "...                                                 ...  \n",
       "2490  POLYGON ((-118.07225 33.85452, -118.07047 33.8...  \n",
       "2491  POLYGON ((-118.06374 33.86586, -118.05352 33.8...  \n",
       "2492  POLYGON ((-118.04646 33.87326, -118.03776 33.8...  \n",
       "2493  POLYGON ((-118.06362 33.85858, -118.05495 33.8...  \n",
       "2494  POLYGON ((-118.10858 33.88694, -118.10828 33.8...  \n",
       "\n",
       "[2495 rows x 14 columns]"
      ]
     },
     "execution_count": 76,
     "metadata": {},
     "output_type": "execute_result"
    }
   ],
   "source": [
    "#read in shapefile to notebook\n",
    "tracts = gpd.read_file('data/MedianIncome.geojson')\n",
    "tracts"
   ]
  },
  {
   "cell_type": "code",
   "execution_count": 77,
   "id": "a3d97945-a61f-4a58-8265-5bb7ca164717",
   "metadata": {},
   "outputs": [
    {
     "data": {
      "text/html": [
       "<div>\n",
       "<style scoped>\n",
       "    .dataframe tbody tr th:only-of-type {\n",
       "        vertical-align: middle;\n",
       "    }\n",
       "\n",
       "    .dataframe tbody tr th {\n",
       "        vertical-align: top;\n",
       "    }\n",
       "\n",
       "    .dataframe thead th {\n",
       "        text-align: right;\n",
       "    }\n",
       "</style>\n",
       "<table border=\"1\" class=\"dataframe\">\n",
       "  <thead>\n",
       "    <tr style=\"text-align: right;\">\n",
       "      <th></th>\n",
       "      <th>tract</th>\n",
       "      <th>med_hh_income</th>\n",
       "      <th>med_hh_income_universe</th>\n",
       "      <th>ami_category</th>\n",
       "      <th>below_med_income</th>\n",
       "      <th>below_60pct_med_income</th>\n",
       "      <th>below_moderate_income</th>\n",
       "      <th>sup_dist</th>\n",
       "      <th>csa</th>\n",
       "      <th>spa</th>\n",
       "      <th>ESRI_OID</th>\n",
       "      <th>Shape__Area</th>\n",
       "      <th>Shape__Length</th>\n",
       "      <th>geometry</th>\n",
       "    </tr>\n",
       "  </thead>\n",
       "  <tbody>\n",
       "    <tr>\n",
       "      <th>0</th>\n",
       "      <td>06037199700</td>\n",
       "      <td>38892.0</td>\n",
       "      <td>1204</td>\n",
       "      <td>Very Low Income</td>\n",
       "      <td>Yes</td>\n",
       "      <td>Yes</td>\n",
       "      <td>Yes</td>\n",
       "      <td>District 1</td>\n",
       "      <td>Los Angeles - Wholesale District</td>\n",
       "      <td>SPA 4 - Metro</td>\n",
       "      <td>2347</td>\n",
       "      <td>1.041050e+07</td>\n",
       "      <td>13808.463241</td>\n",
       "      <td>POLYGON ((-118.22672 34.06242, -118.22453 34.0...</td>\n",
       "    </tr>\n",
       "    <tr>\n",
       "      <th>1</th>\n",
       "      <td>06037199801</td>\n",
       "      <td>41027.0</td>\n",
       "      <td>903</td>\n",
       "      <td>Very Low Income</td>\n",
       "      <td>Yes</td>\n",
       "      <td>Yes</td>\n",
       "      <td>Yes</td>\n",
       "      <td>District 1</td>\n",
       "      <td>Los Angeles - Lincoln Heights</td>\n",
       "      <td>SPA 4 - Metro</td>\n",
       "      <td>2348</td>\n",
       "      <td>3.724107e+06</td>\n",
       "      <td>9459.391827</td>\n",
       "      <td>POLYGON ((-118.21559 34.07186, -118.21169 34.0...</td>\n",
       "    </tr>\n",
       "    <tr>\n",
       "      <th>2</th>\n",
       "      <td>06037199802</td>\n",
       "      <td>42500.0</td>\n",
       "      <td>612</td>\n",
       "      <td>Very Low Income</td>\n",
       "      <td>Yes</td>\n",
       "      <td>Yes</td>\n",
       "      <td>Yes</td>\n",
       "      <td>District 1</td>\n",
       "      <td>Los Angeles - Lincoln Heights</td>\n",
       "      <td>SPA 4 - Metro</td>\n",
       "      <td>2349</td>\n",
       "      <td>3.296129e+06</td>\n",
       "      <td>8868.744225</td>\n",
       "      <td>POLYGON ((-118.21563 34.07365, -118.21309 34.0...</td>\n",
       "    </tr>\n",
       "  </tbody>\n",
       "</table>\n",
       "</div>"
      ],
      "text/plain": [
       "         tract  med_hh_income  med_hh_income_universe     ami_category  \\\n",
       "0  06037199700        38892.0                    1204  Very Low Income   \n",
       "1  06037199801        41027.0                     903  Very Low Income   \n",
       "2  06037199802        42500.0                     612  Very Low Income   \n",
       "\n",
       "  below_med_income below_60pct_med_income below_moderate_income    sup_dist  \\\n",
       "0              Yes                    Yes                   Yes  District 1   \n",
       "1              Yes                    Yes                   Yes  District 1   \n",
       "2              Yes                    Yes                   Yes  District 1   \n",
       "\n",
       "                                csa            spa  ESRI_OID   Shape__Area  \\\n",
       "0  Los Angeles - Wholesale District  SPA 4 - Metro      2347  1.041050e+07   \n",
       "1     Los Angeles - Lincoln Heights  SPA 4 - Metro      2348  3.724107e+06   \n",
       "2     Los Angeles - Lincoln Heights  SPA 4 - Metro      2349  3.296129e+06   \n",
       "\n",
       "   Shape__Length                                           geometry  \n",
       "0   13808.463241  POLYGON ((-118.22672 34.06242, -118.22453 34.0...  \n",
       "1    9459.391827  POLYGON ((-118.21559 34.07186, -118.21169 34.0...  \n",
       "2    8868.744225  POLYGON ((-118.21563 34.07365, -118.21309 34.0...  "
      ]
     },
     "execution_count": 77,
     "metadata": {},
     "output_type": "execute_result"
    }
   ],
   "source": [
    "#show the first three observations of the dataset\n",
    "tracts.head(3)"
   ]
  },
  {
   "cell_type": "code",
   "execution_count": 78,
   "id": "de255bcc-09f0-4480-8160-e54330f2e610",
   "metadata": {},
   "outputs": [
    {
     "data": {
      "text/html": [
       "<div>\n",
       "<style scoped>\n",
       "    .dataframe tbody tr th:only-of-type {\n",
       "        vertical-align: middle;\n",
       "    }\n",
       "\n",
       "    .dataframe tbody tr th {\n",
       "        vertical-align: top;\n",
       "    }\n",
       "\n",
       "    .dataframe thead th {\n",
       "        text-align: right;\n",
       "    }\n",
       "</style>\n",
       "<table border=\"1\" class=\"dataframe\">\n",
       "  <thead>\n",
       "    <tr style=\"text-align: right;\">\n",
       "      <th></th>\n",
       "      <th>tract</th>\n",
       "      <th>med_hh_income</th>\n",
       "      <th>med_hh_income_universe</th>\n",
       "      <th>ami_category</th>\n",
       "      <th>below_med_income</th>\n",
       "      <th>below_60pct_med_income</th>\n",
       "      <th>below_moderate_income</th>\n",
       "      <th>sup_dist</th>\n",
       "      <th>csa</th>\n",
       "      <th>spa</th>\n",
       "      <th>ESRI_OID</th>\n",
       "      <th>Shape__Area</th>\n",
       "      <th>Shape__Length</th>\n",
       "      <th>geometry</th>\n",
       "    </tr>\n",
       "  </thead>\n",
       "  <tbody>\n",
       "    <tr>\n",
       "      <th>2492</th>\n",
       "      <td>06037554518</td>\n",
       "      <td>104439.0</td>\n",
       "      <td>1558</td>\n",
       "      <td>Above Moderate Income</td>\n",
       "      <td>No</td>\n",
       "      <td>No</td>\n",
       "      <td>No</td>\n",
       "      <td>District 4</td>\n",
       "      <td>City of Cerritos</td>\n",
       "      <td>SPA 7 - East</td>\n",
       "      <td>4839</td>\n",
       "      <td>1.938903e+07</td>\n",
       "      <td>21218.412991</td>\n",
       "      <td>POLYGON ((-118.04646 33.87326, -118.03776 33.8...</td>\n",
       "    </tr>\n",
       "    <tr>\n",
       "      <th>2493</th>\n",
       "      <td>06037554519</td>\n",
       "      <td>131012.0</td>\n",
       "      <td>1216</td>\n",
       "      <td>Above Moderate Income</td>\n",
       "      <td>No</td>\n",
       "      <td>No</td>\n",
       "      <td>No</td>\n",
       "      <td>District 4</td>\n",
       "      <td>City of Cerritos</td>\n",
       "      <td>SPA 7 - East</td>\n",
       "      <td>4840</td>\n",
       "      <td>1.866694e+07</td>\n",
       "      <td>19500.866806</td>\n",
       "      <td>POLYGON ((-118.06362 33.85858, -118.05495 33.8...</td>\n",
       "    </tr>\n",
       "    <tr>\n",
       "      <th>2494</th>\n",
       "      <td>06037554521</td>\n",
       "      <td>90280.0</td>\n",
       "      <td>1863</td>\n",
       "      <td>Low Income</td>\n",
       "      <td>No</td>\n",
       "      <td>No</td>\n",
       "      <td>Yes</td>\n",
       "      <td>District 4</td>\n",
       "      <td>City of Cerritos</td>\n",
       "      <td>SPA 7 - East</td>\n",
       "      <td>4841</td>\n",
       "      <td>5.352220e+07</td>\n",
       "      <td>37625.839752</td>\n",
       "      <td>POLYGON ((-118.10858 33.88694, -118.10828 33.8...</td>\n",
       "    </tr>\n",
       "  </tbody>\n",
       "</table>\n",
       "</div>"
      ],
      "text/plain": [
       "            tract  med_hh_income  med_hh_income_universe  \\\n",
       "2492  06037554518       104439.0                    1558   \n",
       "2493  06037554519       131012.0                    1216   \n",
       "2494  06037554521        90280.0                    1863   \n",
       "\n",
       "               ami_category below_med_income below_60pct_med_income  \\\n",
       "2492  Above Moderate Income               No                     No   \n",
       "2493  Above Moderate Income               No                     No   \n",
       "2494             Low Income               No                     No   \n",
       "\n",
       "     below_moderate_income    sup_dist               csa           spa  \\\n",
       "2492                    No  District 4  City of Cerritos  SPA 7 - East   \n",
       "2493                    No  District 4  City of Cerritos  SPA 7 - East   \n",
       "2494                   Yes  District 4  City of Cerritos  SPA 7 - East   \n",
       "\n",
       "      ESRI_OID   Shape__Area  Shape__Length  \\\n",
       "2492      4839  1.938903e+07   21218.412991   \n",
       "2493      4840  1.866694e+07   19500.866806   \n",
       "2494      4841  5.352220e+07   37625.839752   \n",
       "\n",
       "                                               geometry  \n",
       "2492  POLYGON ((-118.04646 33.87326, -118.03776 33.8...  \n",
       "2493  POLYGON ((-118.06362 33.85858, -118.05495 33.8...  \n",
       "2494  POLYGON ((-118.10858 33.88694, -118.10828 33.8...  "
      ]
     },
     "execution_count": 78,
     "metadata": {},
     "output_type": "execute_result"
    }
   ],
   "source": [
    "#show the last three observations of the dataset\n",
    "tracts.tail(3)"
   ]
  },
  {
   "cell_type": "code",
   "execution_count": 79,
   "id": "3e1aa0d7-e521-4116-8f2b-e9dc54e1df9a",
   "metadata": {},
   "outputs": [
    {
     "data": {
      "text/plain": [
       "tract                       object\n",
       "med_hh_income              float64\n",
       "med_hh_income_universe       int64\n",
       "ami_category                object\n",
       "below_med_income            object\n",
       "below_60pct_med_income      object\n",
       "below_moderate_income       object\n",
       "sup_dist                    object\n",
       "csa                         object\n",
       "spa                         object\n",
       "ESRI_OID                     int64\n",
       "Shape__Area                float64\n",
       "Shape__Length              float64\n",
       "geometry                  geometry\n",
       "dtype: object"
      ]
     },
     "execution_count": 79,
     "metadata": {},
     "output_type": "execute_result"
    }
   ],
   "source": [
    "#identify the data types for the variables within the dataset\n",
    "tracts.dtypes"
   ]
  },
  {
   "cell_type": "code",
   "execution_count": 80,
   "id": "7cf43642-bc67-4ae8-a344-09a129e72a11",
   "metadata": {},
   "outputs": [
    {
     "name": "stdout",
     "output_type": "stream",
     "text": [
      "<class 'geopandas.geodataframe.GeoDataFrame'>\n",
      "RangeIndex: 2495 entries, 0 to 2494\n",
      "Data columns (total 14 columns):\n",
      " #   Column                  Non-Null Count  Dtype   \n",
      "---  ------                  --------------  -----   \n",
      " 0   tract                   2495 non-null   object  \n",
      " 1   med_hh_income           2458 non-null   float64 \n",
      " 2   med_hh_income_universe  2495 non-null   int64   \n",
      " 3   ami_category            2458 non-null   object  \n",
      " 4   below_med_income        2458 non-null   object  \n",
      " 5   below_60pct_med_income  2458 non-null   object  \n",
      " 6   below_moderate_income   2458 non-null   object  \n",
      " 7   sup_dist                2495 non-null   object  \n",
      " 8   csa                     2495 non-null   object  \n",
      " 9   spa                     2495 non-null   object  \n",
      " 10  ESRI_OID                2495 non-null   int64   \n",
      " 11  Shape__Area             2495 non-null   float64 \n",
      " 12  Shape__Length           2495 non-null   float64 \n",
      " 13  geometry                2495 non-null   geometry\n",
      "dtypes: float64(3), geometry(1), int64(2), object(8)\n",
      "memory usage: 273.0+ KB\n"
     ]
    }
   ],
   "source": [
    "#information on the dataframe's structure\n",
    "tracts.info()"
   ]
  },
  {
   "cell_type": "code",
   "execution_count": 81,
   "id": "48c8263b-536b-4f63-a599-5b885dcccd25",
   "metadata": {},
   "outputs": [
    {
     "data": {
      "text/plain": [
       "(2495, 14)"
      ]
     },
     "execution_count": 81,
     "metadata": {},
     "output_type": "execute_result"
    }
   ],
   "source": [
    "#number of rows and columns in the dataframe\n",
    "tracts.shape"
   ]
  },
  {
   "cell_type": "code",
   "execution_count": 82,
   "id": "b6fe2675-604a-4b06-bf8d-f8224d25d071",
   "metadata": {},
   "outputs": [
    {
     "data": {
      "text/plain": [
       "ami_category\n",
       "Low Income               962\n",
       "Very Low Income          753\n",
       "Above Moderate Income    589\n",
       "Extremely Low Income     130\n",
       "Moderate Income           24\n",
       "Name: count, dtype: int64"
      ]
     },
     "execution_count": 82,
     "metadata": {},
     "output_type": "execute_result"
    }
   ],
   "source": [
    "#frequency counts of each AMI category\n",
    "hhindex_count = tracts['ami_category'].value_counts()\n",
    "hhindex_count"
   ]
  },
  {
   "cell_type": "code",
   "execution_count": 83,
   "id": "e8f32d09-347c-4597-9c59-15e8c23589a3",
   "metadata": {},
   "outputs": [
    {
     "data": {
      "text/plain": [
       "pandas.core.series.Series"
      ]
     },
     "execution_count": 83,
     "metadata": {},
     "output_type": "execute_result"
    }
   ],
   "source": [
    "#hhindex_count data type\n",
    "type(hhindex_count)"
   ]
  },
  {
   "cell_type": "code",
   "execution_count": 84,
   "id": "ab91f534-b345-40f5-abbb-fcf96946719e",
   "metadata": {},
   "outputs": [
    {
     "data": {
      "text/html": [
       "<div>\n",
       "<style scoped>\n",
       "    .dataframe tbody tr th:only-of-type {\n",
       "        vertical-align: middle;\n",
       "    }\n",
       "\n",
       "    .dataframe tbody tr th {\n",
       "        vertical-align: top;\n",
       "    }\n",
       "\n",
       "    .dataframe thead th {\n",
       "        text-align: right;\n",
       "    }\n",
       "</style>\n",
       "<table border=\"1\" class=\"dataframe\">\n",
       "  <thead>\n",
       "    <tr style=\"text-align: right;\">\n",
       "      <th></th>\n",
       "      <th>ami_category</th>\n",
       "      <th>count</th>\n",
       "    </tr>\n",
       "  </thead>\n",
       "  <tbody>\n",
       "    <tr>\n",
       "      <th>0</th>\n",
       "      <td>Low Income</td>\n",
       "      <td>962</td>\n",
       "    </tr>\n",
       "    <tr>\n",
       "      <th>1</th>\n",
       "      <td>Very Low Income</td>\n",
       "      <td>753</td>\n",
       "    </tr>\n",
       "    <tr>\n",
       "      <th>2</th>\n",
       "      <td>Above Moderate Income</td>\n",
       "      <td>589</td>\n",
       "    </tr>\n",
       "    <tr>\n",
       "      <th>3</th>\n",
       "      <td>Extremely Low Income</td>\n",
       "      <td>130</td>\n",
       "    </tr>\n",
       "    <tr>\n",
       "      <th>4</th>\n",
       "      <td>Moderate Income</td>\n",
       "      <td>24</td>\n",
       "    </tr>\n",
       "  </tbody>\n",
       "</table>\n",
       "</div>"
      ],
      "text/plain": [
       "            ami_category  count\n",
       "0             Low Income    962\n",
       "1        Very Low Income    753\n",
       "2  Above Moderate Income    589\n",
       "3   Extremely Low Income    130\n",
       "4        Moderate Income     24"
      ]
     },
     "execution_count": 84,
     "metadata": {},
     "output_type": "execute_result"
    }
   ],
   "source": [
    "#change the series into a dataframe\n",
    "hhindex_count = hhindex_count.reset_index()\n",
    "hhindex_count "
   ]
  },
  {
   "cell_type": "code",
   "execution_count": 85,
   "id": "51f3e655-4682-423e-8649-4d5f24091b28",
   "metadata": {},
   "outputs": [
    {
     "data": {
      "text/plain": [
       "pandas.core.frame.DataFrame"
      ]
     },
     "execution_count": 85,
     "metadata": {},
     "output_type": "execute_result"
    }
   ],
   "source": [
    "#check that the series is now a dataframe\n",
    "type(hhindex_count)"
   ]
  },
  {
   "cell_type": "code",
   "execution_count": 86,
   "id": "3a2f7d6c-ed29-4245-9d96-dd6a281e55cb",
   "metadata": {},
   "outputs": [
    {
     "data": {
      "text/plain": [
       "['ami_category', 'count']"
      ]
     },
     "execution_count": 86,
     "metadata": {},
     "output_type": "execute_result"
    }
   ],
   "source": [
    "#current columns as a list\n",
    "hhindex_count.columns.to_list()"
   ]
  },
  {
   "cell_type": "code",
   "execution_count": 87,
   "id": "6c2642c1-53aa-4f4b-a9af-c532db23b66f",
   "metadata": {},
   "outputs": [],
   "source": [
    "#label the variables\n",
    "hhindex_count.columns = ['Average Median HH Income Classification', '# of Census Tracts']"
   ]
  },
  {
   "cell_type": "code",
   "execution_count": 88,
   "id": "b3520006-327d-4161-ae6a-abd95ffef668",
   "metadata": {},
   "outputs": [
    {
     "data": {
      "text/html": [
       "<div>\n",
       "<style scoped>\n",
       "    .dataframe tbody tr th:only-of-type {\n",
       "        vertical-align: middle;\n",
       "    }\n",
       "\n",
       "    .dataframe tbody tr th {\n",
       "        vertical-align: top;\n",
       "    }\n",
       "\n",
       "    .dataframe thead th {\n",
       "        text-align: right;\n",
       "    }\n",
       "</style>\n",
       "<table border=\"1\" class=\"dataframe\">\n",
       "  <thead>\n",
       "    <tr style=\"text-align: right;\">\n",
       "      <th></th>\n",
       "      <th>Average Median HH Income Classification</th>\n",
       "      <th># of Census Tracts</th>\n",
       "    </tr>\n",
       "  </thead>\n",
       "  <tbody>\n",
       "    <tr>\n",
       "      <th>0</th>\n",
       "      <td>Low Income</td>\n",
       "      <td>962</td>\n",
       "    </tr>\n",
       "    <tr>\n",
       "      <th>1</th>\n",
       "      <td>Very Low Income</td>\n",
       "      <td>753</td>\n",
       "    </tr>\n",
       "    <tr>\n",
       "      <th>2</th>\n",
       "      <td>Above Moderate Income</td>\n",
       "      <td>589</td>\n",
       "    </tr>\n",
       "    <tr>\n",
       "      <th>3</th>\n",
       "      <td>Extremely Low Income</td>\n",
       "      <td>130</td>\n",
       "    </tr>\n",
       "    <tr>\n",
       "      <th>4</th>\n",
       "      <td>Moderate Income</td>\n",
       "      <td>24</td>\n",
       "    </tr>\n",
       "  </tbody>\n",
       "</table>\n",
       "</div>"
      ],
      "text/plain": [
       "  Average Median HH Income Classification  # of Census Tracts\n",
       "0                              Low Income                 962\n",
       "1                         Very Low Income                 753\n",
       "2                   Above Moderate Income                 589\n",
       "3                    Extremely Low Income                 130\n",
       "4                         Moderate Income                  24"
      ]
     },
     "execution_count": 88,
     "metadata": {},
     "output_type": "execute_result"
    }
   ],
   "source": [
    "hhindex_count"
   ]
  },
  {
   "cell_type": "code",
   "execution_count": 89,
   "id": "367d7e07-bcbf-4cd3-9f3c-91e64aca5927",
   "metadata": {},
   "outputs": [
    {
     "data": {
      "text/plain": [
       "<Axes: >"
      ]
     },
     "execution_count": 89,
     "metadata": {},
     "output_type": "execute_result"
    },
    {
     "data": {
      "image/png": "[encoded data removed]",
      "text/plain": [
       "<Figure size 640x480 with 1 Axes>"
      ]
     },
     "metadata": {},
     "output_type": "display_data"
    }
   ],
   "source": [
    "hhindex_count.plot()"
   ]
  },
  {
   "cell_type": "code",
   "execution_count": 90,
   "id": "36dfc7ea-758c-40aa-a15a-15075b5a1e8a",
   "metadata": {},
   "outputs": [
    {
     "data": {
      "text/plain": [
       "<Axes: title={'center': 'Number of Census Tracts in Los Angeles by Income Classification'}>"
      ]
     },
     "execution_count": 90,
     "metadata": {},
     "output_type": "execute_result"
    },
    {
     "data": {
      "image/png": "[encoded data removed]",
      "text/plain": [
       "<Figure size 640x480 with 1 Axes>"
      ]
     },
     "metadata": {},
     "output_type": "display_data"
    }
   ],
   "source": [
    "# giving me an execution error: hhindex_count.plot.bar(x = 'Average Median HH Income Classification', y = '# of Census Tracts', title = 'Number of Census Tracts in Los Angeles by Income Classification')\n",
    "\n",
    "hhindex_count.plot.bar(title = 'Number of Census Tracts in Los Angeles by Income Classification')\n"
   ]
  }
 ],
 "metadata": {
  "kernelspec": {
   "display_name": "Python 3 (ipykernel)",
   "language": "python",
   "name": "python3"
  },
  "language_info": {
   "codemirror_mode": {
    "name": "ipython",
    "version": 3
   },
   "file_extension": ".py",
   "mimetype": "text/x-python",
   "name": "python",
   "nbconvert_exporter": "python",
   "pygments_lexer": "ipython3",
   "version": "3.11.7"
  }
 },
 "nbformat": 4,
 "nbformat_minor": 5
}
